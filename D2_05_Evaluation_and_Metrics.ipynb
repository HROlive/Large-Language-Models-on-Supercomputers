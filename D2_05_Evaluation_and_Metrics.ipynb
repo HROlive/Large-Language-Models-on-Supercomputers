{
 "cells": [
  {
   "cell_type": "code",
   "execution_count": null,
   "id": "70e697d6-66cc-475d-8278-ce7cf8dec03e",
   "metadata": {},
   "outputs": [],
   "source": [
    "pip install sacrebleu"
   ]
  },
  {
   "cell_type": "code",
   "execution_count": null,
   "id": "4b07c537-65f7-43e3-bea7-a793ceb73f5b",
   "metadata": {},
   "outputs": [],
   "source": [
    "pip install rouge-score"
   ]
  },
  {
   "cell_type": "code",
   "execution_count": null,
   "id": "1b83516a-c070-46e4-bc4a-4cb67689e838",
   "metadata": {},
   "outputs": [],
   "source": [
    "# Shut down the kernel to release memory\n",
    "import IPython\n",
    "\n",
    "app = IPython.Application.instance()\n",
    "app.kernel.do_shutdown(restart=False)"
   ]
  },
  {
   "cell_type": "markdown",
   "id": "0bc90d39-8ddd-4fdb-a537-1571f2ab4305",
   "metadata": {},
   "source": [
    "# Evaluation Methods and Metrics for LLMs\n",
    "\n",
    "Evaluation metrics are essential for measuring how well language models perform various tasks, such as text generation, classification, and translation. We will cover some of the most commonly used metrics: perplexity, accuracy, BLEU, ROUGE, and METEOR. You need to choose the metric that is most suited to the ues-case."
   ]
  },
  {
   "cell_type": "markdown",
   "id": "d797928d-f793-4b45-bf29-6d23a299510c",
   "metadata": {},
   "source": [
    "## Accuracy, Precision, Recall & F1-Score\n",
    "All of these metrics are typically used for classification tasks.  \n",
    "\n",
    "* **Accuracy** measures how many predictions made by the model are correct out of the total predictions. $$\\text{Accuracy} = \\frac{TP + TN}{TP + TN + FP + FN}$$\n",
    "\n",
    "* **Precision** measures how many of the predicted positive labels were actually correct. $$\\text{Precision} = \\frac{TP}{TP + FP}\n",
    "$$\n",
    "* **Recall** measures how many of the actual positive labels were correctly predicted. $$\\text{Recall} = \\frac{TP}{TP + FN}$$\n",
    "\n",
    "* **F1-score** is the harmonic mean of precision and recall, providing a single measure that balances both. $$\\text{F1-Score} = 2 \\cdot \\frac{\\text{Precision} \\cdot \\text{Recall}}{\\text{Precision} + \\text{Recall}}\n",
    "$$\n"
   ]
  },
  {
   "cell_type": "code",
   "execution_count": null,
   "id": "9ed33e8e-b577-4cdf-bfc2-f06a307a7527",
   "metadata": {},
   "outputs": [],
   "source": [
    "# Load a classification dataset\n",
    "dataset = load_dataset(\"imdb\", split=\"test\")"
   ]
  },
  {
   "cell_type": "code",
   "execution_count": null,
   "id": "4e1445f7-7311-4ff1-b3be-3d39b6a9e22b",
   "metadata": {},
   "outputs": [],
   "source": [
    "# Evaluate accuracy\n",
    "accuracy = load_metric(\"accuracy\", trust_remote_code=True)\n",
    "precision = load_metric(\"precision\", trust_remote_code=True)\n",
    "recall = load_metric(\"recall\", trust_remote_code=True)\n",
    "f1 = load_metric(\"f1\", trust_remote_code=True)"
   ]
  },
  {
   "cell_type": "code",
   "execution_count": null,
   "id": "04413c12-d457-43fb-9d02-1f351118437c",
   "metadata": {},
   "outputs": [],
   "source": [
    "def compute_scores(preds, labels):\n",
    "    print(\"Accuracy: \",accuracy.compute(predictions=preds, references=labels),\n",
    "         \"\\nPrecision: \",precision.compute(predictions=preds, references=labels),\n",
    "         \"\\nRecall: \",recall.compute(predictions=preds, references=labels),\n",
    "         \"\\nF1-score: \",f1.compute(predictions=preds, references=labels))"
   ]
  },
  {
   "cell_type": "code",
   "execution_count": null,
   "id": "e21bd48b-01b8-4c92-ac6e-f1e683569116",
   "metadata": {},
   "outputs": [],
   "source": [
    "# Example predictions (replace with actual predictions from your model)\n",
    "preds = [0, 1, 0, 1]\n",
    "labels = [0, 1, 1, 1]\n",
    "compute_scores(preds, labels)"
   ]
  },
  {
   "cell_type": "markdown",
   "id": "201d4d83-406e-4a87-b65d-42b56a0fa22c",
   "metadata": {},
   "source": [
    "## BLEU, ROUGE\n",
    "Measuring performance on a text generation task is not as easy as with standard classification tasks such as sentiment analysis or named entity recognition. Take the example of translation; given a sentence like “I love dogs!” in English and translating it to Spanish there can be multiple valid possibilities, like “¡Me encantan los perros!” or “¡Me gustan los perros!” Simply checking for an exact match to a reference translation is not optimal; even humans would fare badly on such a metric because we all write text slightly differently from each other (and even from ourselves, depending on the time of the day or year!). Fortunately, there are alternatives.\n",
    "\n",
    "Two of the most common metrics used to evaluate generated text are BLEU and ROUGE. Let’s take a look at what they do.\n",
    "\n",
    "### BLEU\n",
    "BLEU is a widely used metric, especially for machine translation. The idea of BLEU is to compare words or n-grams. It's is a precision-based metric, which means that when we compare the two texts we count the number of words in the generation that occur in the reference and divide it by the length of the generation. Because the precision score favours short generations, we need to compensate for that with the brevity penalty. One of the limitations of this metric is that it doesn’t take synonyms into account.  \n",
    "This is the formula of the BLEU score:\n",
    "$$\\text{BLEU-N} = BR \\times \\left( \\prod_{n=1}^{N} p_n \\right)^{\\frac{1}{N}}$$\n",
    "\n",
    "The `bleu_metric` object is an instance of the `Metric` class, and works like an aggregator: you can add single instances with `add()` or whole batches via `add_batch()`. Once you have added all the samples you need to evaluate, you then call `compute()` and the metric is calculated. This returns a dictionary with several values, such as the precision for each n-gram, the length penalty, as well as the final BLEU score. Let’s look at an example:"
   ]
  },
  {
   "cell_type": "code",
   "execution_count": null,
   "id": "87c5fa38-74ea-4563-9b3c-ce575be7c900",
   "metadata": {},
   "outputs": [],
   "source": [
    "bleu_metric = load_metric(\"sacrebleu\") # sacrebleu doesn't expect the text to be tokenized"
   ]
  },
  {
   "cell_type": "code",
   "execution_count": null,
   "id": "79c2b1dd-d632-49e3-ac56-224715672684",
   "metadata": {},
   "outputs": [],
   "source": [
    "bleu_metric.add(\n",
    "    prediction=\"the the the the the the\", reference=[\"the cat is on the mat\"])\n",
    "results = bleu_metric.compute()\n",
    "results[\"precisions\"] = [np.round(p, 2) for p in results[\"precisions\"]]\n",
    "pd.DataFrame.from_dict(results, orient=\"index\", columns=[\"Value\"])"
   ]
  },
  {
   "cell_type": "markdown",
   "id": "93e5daf6-0568-460e-866b-21f775ac3f8e",
   "metadata": {},
   "source": [
    "Lets see what the less obvious metrics mean here:"
   ]
  },
  {
   "cell_type": "markdown",
   "id": "ac9a3c07-e31e-40e1-a6a1-5289dcd14c67",
   "metadata": {},
   "source": [
    "#### Counts:\n",
    "The counts represent the number of n-grams (1-gram, 2-gram, etc.) in the prediction that also appear in the reference. These are the \"matches\" found between the predicted and reference text.  \n",
    "  \n",
    "- 1-gram counts: The number of single words in the prediction that are present in the reference.\n",
    "- 2-gram counts: The number of consecutive pairs of words (bigrams) in the prediction that are present in the reference.\n",
    "- ...\n",
    "\n",
    "#### Totals:\n",
    "The totals represent the total number of n-grams in the prediction (regardless of whether they match the reference).\n",
    "\n",
    "\n",
    "- 1-gram totals: The total number of individual words in the prediction.\n",
    "- 2-gram totals: The total number of consecutive pairs of words (bigrams) in the prediction.\n",
    "- ...\n",
    "\n",
    "#### Precisions:\n",
    "The precision for each n-gram level (1-gram, 2-gram, etc.) is calculated as the ratio between counts (matched n-grams) and totals (total n-grams in the prediction).\n",
    "\n",
    "#### Brevity Penalty (BP):\n",
    "This penalizes short predictions compared to the reference length."
   ]
  },
  {
   "cell_type": "markdown",
   "id": "4d7841bc-6f04-43bb-b2c8-1a71db52c006",
   "metadata": {},
   "source": [
    "We can see the precision of the 1-gram is 2/6, whereas the precisions for the 2/3/4-grams are all 0. The overall score should become 0, but `bleu_metric`applies some smoothing, so the score doesn't drop to 0 just because one n-gram gets 0 precision. If you would like to get the exact value accoding to the formula you need to use `results = bleu_metric.compute(smooth_method=\"floor\", smooth_value=0)`"
   ]
  },
  {
   "cell_type": "code",
   "execution_count": null,
   "id": "0fe77d43-6c65-4027-b3d3-7a346f2127ff",
   "metadata": {},
   "outputs": [],
   "source": [
    "bleu_metric.add(\n",
    "    prediction=\"the cat is on mat\", reference=[\"the cat is on the mat\"])\n",
    "results = bleu_metric.compute()\n",
    "results[\"precisions\"] = [np.round(p, 2) for p in results[\"precisions\"]]\n",
    "pd.DataFrame.from_dict(results, orient=\"index\", columns=[\"Value\"])"
   ]
  },
  {
   "cell_type": "markdown",
   "id": "66231bf7-738f-4101-b741-815aa6e6f5fa",
   "metadata": {},
   "source": [
    "We observe that the precision scores are much better. The 1-grams in the prediction all match, and only in the precision scores do we see that something is off. For the 4-gram there are only two candidates, `[\"the\", \"cat\", \"is\", \"on\"]` and `[\"cat\", \"is\", \"on\", \"mat\"]`, where the last one does not match, hence the precision of 0.5."
   ]
  },
  {
   "cell_type": "markdown",
   "id": "546263db-7936-46fd-b453-cd8429da88bb",
   "metadata": {},
   "source": [
    "### ROUGE\n",
    "The ROUGE score was specifically developed for applications like summarization where high recall is more important than just precision. The approach is very similar to the BLEU score in that we look at different n-grams and compare their occurrences in the generated text and the reference texts. The difference is that with ROUGE we check how many n-grams in the reference text also occur in the generated text.\n",
    "\n",
    "Let's look at an example:"
   ]
  },
  {
   "cell_type": "code",
   "execution_count": null,
   "id": "291fae18-93e3-4c69-9b5a-bd618acbacc3",
   "metadata": {},
   "outputs": [],
   "source": [
    "rouge_metric = load_metric(\"rouge\")"
   ]
  },
  {
   "cell_type": "code",
   "execution_count": null,
   "id": "3bcb5962-0cce-4b5b-8ba9-eb3bf307b18b",
   "metadata": {},
   "outputs": [],
   "source": [
    "dataset = load_dataset(\"cnn_dailymail\", \"3.0.0\")\n",
    "print(f\"Features: {dataset['train'].column_names}\")"
   ]
  },
  {
   "cell_type": "markdown",
   "id": "04106eb3-3f77-459f-9014-ce7fe1733b49",
   "metadata": {},
   "source": [
    "The dataset has three columns: article, which contains the news articles, highlights with the summaries, and id to uniquely identify each article. Let’s look at an excerpt from an article:"
   ]
  },
  {
   "cell_type": "code",
   "execution_count": null,
   "id": "a6fbbaf7-ff2f-4324-b7b8-ee27a051eaa2",
   "metadata": {},
   "outputs": [],
   "source": [
    "sample = dataset[\"train\"][1]\n",
    "print(f\"\"\"\n",
    "Article (excerpt of 500 characters, total length: {len(sample[\"article\"])}):\n",
    "\"\"\")\n",
    "print(sample[\"article\"][:500])\n",
    "print(f'\\nSummary (length: {len(sample[\"highlights\"])}):')\n",
    "print(sample[\"highlights\"])"
   ]
  },
  {
   "cell_type": "code",
   "execution_count": null,
   "id": "d9105742-040c-4b96-b04f-dd77c2897d97",
   "metadata": {},
   "outputs": [],
   "source": [
    "sample_text = dataset[\"train\"][1][\"article\"][:2000]\n",
    "# We'll collect the generated summaries of each model in a dictionary\n",
    "summaries = {}"
   ]
  },
  {
   "cell_type": "markdown",
   "id": "7c766a0e-b55b-4bc9-97ce-1e882e52326e",
   "metadata": {},
   "source": [
    "A convention in summarization is to separate the summary sentences by a newline. We could add a newline token after each full stop, but this simple heuristic would fail for strings like “U.S.” or “U.N.” The Natural Language Toolkit (NLTK) package includes a more sophisticated algorithm that can differentiate the end of a sentence from punctuation that occurs in abbreviations:"
   ]
  },
  {
   "cell_type": "code",
   "execution_count": null,
   "id": "96a511b4-54ea-4783-a7b7-9a540bb1c7f5",
   "metadata": {},
   "outputs": [],
   "source": [
    "import nltk\n",
    "from nltk.tokenize import sent_tokenize\n",
    "\n",
    "nltk.download(\"punkt\")"
   ]
  },
  {
   "cell_type": "code",
   "execution_count": null,
   "id": "4fc950ca-1226-4df7-b7dd-d79e84ac0d55",
   "metadata": {},
   "outputs": [],
   "source": [
    "set_seed(42)\n",
    "pipe = pipeline(\"text-generation\", model=\"gpt2-xl\")\n",
    "gpt2_query = sample_text + \"\\nTL;DR:\\n\"\n",
    "pipe_out = pipe(gpt2_query, max_length=512, truncation=True, clean_up_tokenization_spaces=True)\n",
    "summaries[\"gpt2\"] = \"\\n\".join(\n",
    "    sent_tokenize(pipe_out[0][\"generated_text\"][len(gpt2_query) :]))"
   ]
  },
  {
   "cell_type": "code",
   "execution_count": null,
   "id": "9694855a-b52f-4cdc-bd2a-9d9eea49eac7",
   "metadata": {},
   "outputs": [],
   "source": [
    "reference = dataset[\"train\"][1][\"highlights\"]\n",
    "records = []\n",
    "rouge_names = [\"rouge1\", \"rouge2\", \"rougeL\", \"rougeLsum\"]"
   ]
  },
  {
   "cell_type": "code",
   "execution_count": null,
   "id": "5959608f-2cb2-4941-9382-251a0463ddd4",
   "metadata": {},
   "outputs": [],
   "source": [
    "for model_name in summaries:\n",
    "    rouge_metric.add(prediction=summaries[model_name], reference=reference)\n",
    "    score = rouge_metric.compute()\n",
    "    rouge_dict = dict((rn, score[rn].mid.fmeasure) for rn in rouge_names)\n",
    "    records.append(rouge_dict)\n",
    "pd.DataFrame.from_records(records, index=summaries.keys())"
   ]
  },
  {
   "cell_type": "markdown",
   "id": "abb2088d-30b2-404d-bbc6-7c85736104f7",
   "metadata": {},
   "source": [
    "In the Hugging Face Datasets implementation, two variations of ROUGE are calculated: one calculates the score per sentence and averages it for the summaries (ROUGE-L), and the other calculates it directly over the whole summary (ROUGE-Lsum). ROUGE-1 refers to the overlap of unigrams (single words) between the system-generated summary and the reference summary. ROUGE-2 refers to the overlap of bigrams (two consecutive words) between the system-generated summary and the reference summary."
   ]
  },
  {
   "cell_type": "markdown",
   "id": "898bdecb-5e15-43db-a6d1-5b882f3235ea",
   "metadata": {},
   "source": [
    "### Human Evaluation\n",
    "Human evaluation may be necessary for tasks like summarization, where metrics like BLEU and ROUGE may not fully capture the quality of the generated text."
   ]
  },
  {
   "cell_type": "markdown",
   "id": "3e0e3e02-cb31-40ef-aa2a-c6b690ec2316",
   "metadata": {},
   "source": [
    "## Perplexity\n",
    "Perplexity is a commonly used metric for evaluating language models, particularly those involved in tasks like text generation, machine translation, or language modeling. It measures how well a language model predicts a sample of text and is directly related to the probability assigned by the model to the test data. Or in other words perplexity quantifies how uncertain or \"perplexed\" the model is about the next word in a sequence. A lower perplexity indicates that the model is better at predicting the next word. A perplexity close to 1 indicates perfect predictions. A higher perplexity means the model is more \"confused.\" So, if a model has a perplexity of 10, this can be interpreted as the model being as uncertain as if it were choosing the next word from a set of 10 equally likely possibilities.\n",
    "$$\\text{Perplexity} = \\exp\\left(-\\frac{1}{N} \\sum_{i=1}^{N} \\log P(w_i)\\right)$$\n",
    "Hugging Face does not provide a built in perplexity metric like we know it from accuracy, BLEU, or ROUGE."
   ]
  },
  {
   "cell_type": "markdown",
   "id": "b0c96f44-e34a-41fe-b15a-a94d4824ce4b",
   "metadata": {},
   "source": [
    "## Conclusion\n",
    "This notebook shows how to evaluate different aspects of an LLM using multiple metrics. Each task may require different metrics depending on the output format and objectives."
   ]
  },
  {
   "cell_type": "code",
   "execution_count": null,
   "id": "04eab47d-7e1e-487b-b8a2-314c3c4935cb",
   "metadata": {},
   "outputs": [],
   "source": [
    "# Shut down the kernel to release memory\n",
    "import IPython\n",
    "\n",
    "app = IPython.Application.instance()\n",
    "app.kernel.do_shutdown(restart=False)"
   ]
  }
 ],
 "metadata": {
  "kernelspec": {
   "display_name": "Python 3 (ipykernel)",
   "language": "python",
   "name": "python3"
  },
  "language_info": {
   "codemirror_mode": {
    "name": "ipython",
    "version": 3
   },
   "file_extension": ".py",
   "mimetype": "text/x-python",
   "name": "python",
   "nbconvert_exporter": "python",
   "pygments_lexer": "ipython3",
   "version": "3.10.14"
  }
 },
 "nbformat": 4,
 "nbformat_minor": 5
}
