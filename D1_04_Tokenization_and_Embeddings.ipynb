{
 "cells": [
  {
   "cell_type": "markdown",
   "id": "29cd3a8e-b73f-4481-95d1-efea9317baa5",
   "metadata": {},
   "source": [
    "# Tokenization and Embeddings\n",
    "\n",
    "Before feeding text into a Transformer model, it must be converted into a numerical format that the model can understand. This process involves two key steps: **Tokenization** and **Embeddings**.\n",
    "\n",
    "### What is Tokenization?\n",
    "\n",
    "Tokenization is the process of splitting text into smaller units called tokens. Tokens can be words, subwords, or characters. Different tokenization methods are used depending on the model architecture and language.\n",
    "\n",
    "### Types of Tokenization:\n",
    "\n",
    "1. **Word Tokenization**: Splits text into individual words (e.g., \"The quick brown fox\").\n",
    "2. **Subword Tokenization**: Splits words into smaller subword units (e.g., \"Transformer\" -> \"Trans\", \"##former\").\n",
    "3. **Character Tokenization**: Splits text into individual characters (e.g., \"hello\" -> \"h\", \"e\", \"l\", \"l\", \"o\").\n",
    "\n",
    "### What are Embeddings?\n",
    "\n",
    "Embeddings are dense vector representations of tokens. They map tokens to continuous vector spaces, capturing semantic meaning and relationships. \n",
    "\n",
    "### Types of Embeddings:\n",
    "\n",
    "1. **Static Embeddings**: Pre-trained on large corpora and remain fixed during training (e.g., Word2Vec, GloVe).\n",
    "2. **Contextual Embeddings**: Generated dynamically by Transformer models based on the context of the surrounding words (e.g., BERT, GPT).\n",
    "\n",
    "Let's explore these concepts in detail and understand how they are applied in practice using the Huggingface `transformers` library.\n"
   ]
  },
  {
   "cell_type": "markdown",
   "id": "0f4357e1-1271-4360-8410-4fd21ea509c9",
   "metadata": {},
   "source": [
    "## Tokenization with Huggingface Transformers\n",
    "\n",
    "The `transformers` library provides a wide range of pre-trained tokenizers that are optimized for different Transformer models. These tokenizers convert raw text into token IDs that can be fed into a model.\n",
    "\n",
    "### Example: Tokenizing Text using a Pre-trained Tokenizer\n",
    "Let's use the BERT tokenizer to tokenize some example text.\n"
   ]
  },
  {
   "cell_type": "code",
   "execution_count": 1,
   "id": "6c1accb9-8b8a-4ecb-a7b0-2870e95f7787",
   "metadata": {},
   "outputs": [],
   "source": [
    "from transformers import AutoTokenizer"
   ]
  },
  {
   "cell_type": "code",
   "execution_count": 2,
   "id": "0eb60fc8-d486-4507-b728-6cb0f637178f",
   "metadata": {},
   "outputs": [],
   "source": [
    "# Load a pre-trained tokenizer\n",
    "tokenizer = AutoTokenizer.from_pretrained(\"bert-base-uncased\")"
   ]
  },
  {
   "cell_type": "code",
   "execution_count": 3,
   "id": "b0383c84-821c-40f2-86ab-361b34b69157",
   "metadata": {},
   "outputs": [],
   "source": [
    "# Example text\n",
    "text = \"Transformers are revolutionizing NLP!\""
   ]
  },
  {
   "cell_type": "code",
   "execution_count": 4,
   "id": "6fd1413d-81cd-41bc-bde3-b6505f72f0ae",
   "metadata": {},
   "outputs": [],
   "source": [
    "text_2 = \"Simeon Harrison is so competent and handsome, he is a unicorn trainer!\""
   ]
  },
  {
   "cell_type": "code",
   "execution_count": 5,
   "id": "0227e64b-66a8-4735-ab94-62ca28033bcb",
   "metadata": {},
   "outputs": [
    {
     "name": "stdout",
     "output_type": "stream",
     "text": [
      "Tokens: ['transformers', 'are', 'revolution', '##izing', 'nl', '##p', '!']\n"
     ]
    }
   ],
   "source": [
    "# Tokenize the text\n",
    "tokens = tokenizer.tokenize(text)\n",
    "print(\"Tokens:\", tokens)"
   ]
  },
  {
   "cell_type": "code",
   "execution_count": 6,
   "id": "b42e7d82-8353-486d-92ef-55fc5a2dabba",
   "metadata": {},
   "outputs": [
    {
     "name": "stdout",
     "output_type": "stream",
     "text": [
      "Tokens: ['simeon', 'harrison', 'is', 'so', 'competent', 'and', 'handsome', ',', 'he', 'is', 'a', 'unicorn', 'trainer', '!']\n"
     ]
    }
   ],
   "source": [
    "tokens_2 = tokenizer.tokenize(text_2)\n",
    "print(\"Tokens:\", tokens_2)"
   ]
  },
  {
   "cell_type": "code",
   "execution_count": 7,
   "id": "758c6590-e3c8-42e0-b366-15a8ad14fb38",
   "metadata": {},
   "outputs": [],
   "source": [
    "text_3 = \"Large language models on supercomputers\""
   ]
  },
  {
   "cell_type": "code",
   "execution_count": 8,
   "id": "e69eb054-fe3f-44a0-8c7d-1ec7b88cb80b",
   "metadata": {},
   "outputs": [
    {
     "name": "stdout",
     "output_type": "stream",
     "text": [
      "Tokens: ['large', 'language', 'models', 'on', 'super', '##com', '##put', '##ers']\n"
     ]
    }
   ],
   "source": [
    "tokens_3 = tokenizer.tokenize(text_3)\n",
    "print(\"Tokens:\", tokens_3)"
   ]
  },
  {
   "cell_type": "code",
   "execution_count": 9,
   "id": "f07b9d33-cabc-43e8-a987-620b3d29d92e",
   "metadata": {},
   "outputs": [
    {
     "name": "stdout",
     "output_type": "stream",
     "text": [
      "Token IDs: [19081, 2024, 4329, 6026, 17953, 2361, 999]\n"
     ]
    }
   ],
   "source": [
    "# Let's look at the actual numeric representations of the tokens\n",
    "token_ids = tokenizer.convert_tokens_to_ids(tokens)\n",
    "print(\"Token IDs:\", token_ids)"
   ]
  },
  {
   "cell_type": "markdown",
   "id": "969fb0d5-2ce9-4a86-8b66-678f8b156693",
   "metadata": {},
   "source": [
    "## Exploring Different Tokenization Methods\n",
    "\n",
    "Huggingface provides several tokenization methods to handle various languages and tasks. Let's explore how different tokenization methods handle the same input text.\n"
   ]
  },
  {
   "cell_type": "code",
   "execution_count": 10,
   "id": "5904c76d-d4f8-4087-a0df-1e5c64561809",
   "metadata": {},
   "outputs": [
    {
     "name": "stdout",
     "output_type": "stream",
     "text": [
      "\n",
      "Using bert-base-uncased tokenizer:\n",
      "Tokens: ['transformers', 'are', 'revolution', '##izing', 'nl', '##p', '!']\n",
      "Token IDs: [19081, 2024, 4329, 6026, 17953, 2361, 999]\n",
      "\n",
      "Using gpt2 tokenizer:\n"
     ]
    },
    {
     "data": {
      "application/vnd.jupyter.widget-view+json": {
       "model_id": "8a6c93f873fc4bda90569db0d43df52e",
       "version_major": 2,
       "version_minor": 0
      },
      "text/plain": [
       "tokenizer_config.json:   0%|          | 0.00/26.0 [00:00<?, ?B/s]"
      ]
     },
     "metadata": {},
     "output_type": "display_data"
    },
    {
     "data": {
      "application/vnd.jupyter.widget-view+json": {
       "model_id": "c24143fb441347fe9cedfc32a70bb28c",
       "version_major": 2,
       "version_minor": 0
      },
      "text/plain": [
       "config.json:   0%|          | 0.00/665 [00:00<?, ?B/s]"
      ]
     },
     "metadata": {},
     "output_type": "display_data"
    },
    {
     "data": {
      "application/vnd.jupyter.widget-view+json": {
       "model_id": "4bbf1825e64f46448bf9b7e3935ed33b",
       "version_major": 2,
       "version_minor": 0
      },
      "text/plain": [
       "vocab.json:   0%|          | 0.00/1.04M [00:00<?, ?B/s]"
      ]
     },
     "metadata": {},
     "output_type": "display_data"
    },
    {
     "data": {
      "application/vnd.jupyter.widget-view+json": {
       "model_id": "7da96c100cbd4c7ab630d0e8a3bad9ab",
       "version_major": 2,
       "version_minor": 0
      },
      "text/plain": [
       "merges.txt:   0%|          | 0.00/456k [00:00<?, ?B/s]"
      ]
     },
     "metadata": {},
     "output_type": "display_data"
    },
    {
     "data": {
      "application/vnd.jupyter.widget-view+json": {
       "model_id": "db7bd505bc9d4d5b91e4204a570eae69",
       "version_major": 2,
       "version_minor": 0
      },
      "text/plain": [
       "tokenizer.json:   0%|          | 0.00/1.36M [00:00<?, ?B/s]"
      ]
     },
     "metadata": {},
     "output_type": "display_data"
    },
    {
     "name": "stdout",
     "output_type": "stream",
     "text": [
      "Tokens: ['Transform', 'ers', 'Ġare', 'Ġrevolution', 'izing', 'ĠN', 'LP', '!']\n",
      "Token IDs: [41762, 364, 389, 5854, 2890, 399, 19930, 0]\n",
      "\n",
      "Using xlm-roberta-base tokenizer:\n"
     ]
    },
    {
     "data": {
      "application/vnd.jupyter.widget-view+json": {
       "model_id": "245b8394fa6c484eb5add32e3fa44389",
       "version_major": 2,
       "version_minor": 0
      },
      "text/plain": [
       "tokenizer_config.json:   0%|          | 0.00/25.0 [00:00<?, ?B/s]"
      ]
     },
     "metadata": {},
     "output_type": "display_data"
    },
    {
     "data": {
      "application/vnd.jupyter.widget-view+json": {
       "model_id": "6daea2bd4aab4b678e7489873b6d2665",
       "version_major": 2,
       "version_minor": 0
      },
      "text/plain": [
       "config.json:   0%|          | 0.00/615 [00:00<?, ?B/s]"
      ]
     },
     "metadata": {},
     "output_type": "display_data"
    },
    {
     "data": {
      "application/vnd.jupyter.widget-view+json": {
       "model_id": "03f4b74b63be4bb2aa0a96b03403bcde",
       "version_major": 2,
       "version_minor": 0
      },
      "text/plain": [
       "sentencepiece.bpe.model:   0%|          | 0.00/5.07M [00:00<?, ?B/s]"
      ]
     },
     "metadata": {},
     "output_type": "display_data"
    },
    {
     "data": {
      "application/vnd.jupyter.widget-view+json": {
       "model_id": "9c49a543b8884bf0987e7ed0f3e57c5f",
       "version_major": 2,
       "version_minor": 0
      },
      "text/plain": [
       "tokenizer.json:   0%|          | 0.00/9.10M [00:00<?, ?B/s]"
      ]
     },
     "metadata": {},
     "output_type": "display_data"
    },
    {
     "name": "stdout",
     "output_type": "stream",
     "text": [
      "Tokens: ['▁Trans', 'former', 's', '▁are', '▁revolution', 'izing', '▁N', 'LP', '!']\n",
      "Token IDs: [11062, 82772, 7, 621, 98834, 84382, 541, 37352, 38]\n"
     ]
    }
   ],
   "source": [
    "# Example of different tokenizers\n",
    "tokenizers = [\"bert-base-uncased\", \"gpt2\", \"xlm-roberta-base\"]\n",
    "\n",
    "for tok_name in tokenizers:\n",
    "    print(f\"\\nUsing {tok_name} tokenizer:\")\n",
    "    tokenizer = AutoTokenizer.from_pretrained(tok_name)\n",
    "    tokens = tokenizer.tokenize(text)\n",
    "    token_ids = tokenizer.convert_tokens_to_ids(tokens)\n",
    "    print(\"Tokens:\", tokens)\n",
    "    print(\"Token IDs:\", token_ids)"
   ]
  },
  {
   "cell_type": "markdown",
   "id": "c567d830-4c26-4e52-bdef-870a044dacc0",
   "metadata": {},
   "source": [
    "## Tokenizing a Whole Dataset\n",
    "To tokenize a whole dataset, we first need to define a tokenize funktion.\n",
    "We can then use the `map()` method to apply the function to the whole dataset.\n",
    "But before that, we need to load a dataset. Let's use the emotions dataset from the Hugging Face Hub."
   ]
  },
  {
   "cell_type": "code",
   "execution_count": 11,
   "id": "b519e77b-e14e-4a42-b473-b5940edc7f36",
   "metadata": {},
   "outputs": [],
   "source": [
    "from datasets import load_dataset"
   ]
  },
  {
   "cell_type": "markdown",
   "id": "1563c0be-d841-430c-8b70-b8ea42233606",
   "metadata": {},
   "source": [
    "We would like to know which tokenizer is behind the variable tokenizer."
   ]
  },
  {
   "cell_type": "code",
   "execution_count": 12,
   "id": "f0b1badf-0e29-4988-98f3-7c9f41202593",
   "metadata": {},
   "outputs": [
    {
     "data": {
      "text/plain": [
       "XLMRobertaTokenizerFast(name_or_path='xlm-roberta-base', vocab_size=250002, model_max_length=512, is_fast=True, padding_side='right', truncation_side='right', special_tokens={'bos_token': '<s>', 'eos_token': '</s>', 'unk_token': '<unk>', 'sep_token': '</s>', 'pad_token': '<pad>', 'cls_token': '<s>', 'mask_token': '<mask>'}, clean_up_tokenization_spaces=True),  added_tokens_decoder={\n",
       "\t0: AddedToken(\"<s>\", rstrip=False, lstrip=False, single_word=False, normalized=False, special=True),\n",
       "\t1: AddedToken(\"<pad>\", rstrip=False, lstrip=False, single_word=False, normalized=False, special=True),\n",
       "\t2: AddedToken(\"</s>\", rstrip=False, lstrip=False, single_word=False, normalized=False, special=True),\n",
       "\t3: AddedToken(\"<unk>\", rstrip=False, lstrip=False, single_word=False, normalized=False, special=True),\n",
       "\t250001: AddedToken(\"<mask>\", rstrip=False, lstrip=True, single_word=False, normalized=False, special=True),\n",
       "}"
      ]
     },
     "execution_count": 12,
     "metadata": {},
     "output_type": "execute_result"
    }
   ],
   "source": [
    "tokenizer"
   ]
  },
  {
   "cell_type": "markdown",
   "id": "d9cfa903-2a95-44d5-9f6b-68e6583048fd",
   "metadata": {},
   "source": [
    "As you can see, we get a lot of information about the bert-base-uncased tokenizer.\n",
    "Now, let's load the dataset:"
   ]
  },
  {
   "cell_type": "code",
   "execution_count": 13,
   "id": "4f4adccf-f8c4-443e-9389-a88019317a26",
   "metadata": {},
   "outputs": [],
   "source": [
    "emotions = load_dataset(\"emotion\")"
   ]
  },
  {
   "cell_type": "code",
   "execution_count": 14,
   "id": "c353a2f5-d4fc-4b3a-abb1-db007a52d5c9",
   "metadata": {},
   "outputs": [
    {
     "data": {
      "text/plain": [
       "DatasetDict({\n",
       "    train: Dataset({\n",
       "        features: ['text', 'label'],\n",
       "        num_rows: 16000\n",
       "    })\n",
       "    validation: Dataset({\n",
       "        features: ['text', 'label'],\n",
       "        num_rows: 2000\n",
       "    })\n",
       "    test: Dataset({\n",
       "        features: ['text', 'label'],\n",
       "        num_rows: 2000\n",
       "    })\n",
       "})"
      ]
     },
     "execution_count": 14,
     "metadata": {},
     "output_type": "execute_result"
    }
   ],
   "source": [
    "emotions"
   ]
  },
  {
   "cell_type": "markdown",
   "id": "ebbfbaac-06e3-441e-8fee-c367317d3000",
   "metadata": {},
   "source": [
    "Here, you can see the splits the dataset comes in."
   ]
  },
  {
   "cell_type": "code",
   "execution_count": 15,
   "id": "52fa9904-bfca-4f50-98ee-9ba3bf9d9109",
   "metadata": {},
   "outputs": [],
   "source": [
    "def tokenize(batch):\n",
    "    return tokenizer(batch[\"text\"], padding=True, truncation=True)"
   ]
  },
  {
   "cell_type": "markdown",
   "id": "5ddae7df-46fd-4d3b-9da8-fecbe52fbc99",
   "metadata": {},
   "source": [
    "To see `tokenize()` in action, we pass two examples from the training set:"
   ]
  },
  {
   "cell_type": "code",
   "execution_count": 16,
   "id": "d19ec08b-7e3d-4390-9727-d4f3018d620b",
   "metadata": {},
   "outputs": [
    {
     "name": "stdout",
     "output_type": "stream",
     "text": [
      "{'input_ids': [[0, 17, 15935, 18, 12319, 157996, 27686, 2, 1, 1, 1, 1, 1, 1, 1, 1, 1, 1, 1, 1, 1, 1, 1, 1, 1, 1, 1, 1], [0, 17, 831, 738, 1295, 34698, 221, 15673, 9393, 47, 221, 121584, 297, 15673, 7844, 1660, 1295, 8035, 10932, 22008, 2750, 517, 7, 136, 83, 38075, 13, 2]], 'attention_mask': [[1, 1, 1, 1, 1, 1, 1, 1, 0, 0, 0, 0, 0, 0, 0, 0, 0, 0, 0, 0, 0, 0, 0, 0, 0, 0, 0, 0], [1, 1, 1, 1, 1, 1, 1, 1, 1, 1, 1, 1, 1, 1, 1, 1, 1, 1, 1, 1, 1, 1, 1, 1, 1, 1, 1, 1]]}\n"
     ]
    }
   ],
   "source": [
    "print(tokenize(emotions[\"train\"][:2]))"
   ]
  },
  {
   "cell_type": "markdown",
   "id": "51ab7778-38d5-4573-b81f-d3fe29affafe",
   "metadata": {},
   "source": [
    "Here you can see, that a tokenized dataset does not just consist of the token ids, but much more, which the model uses for training.  \n",
    "Now, let's apply `map()`. `batch_size=None` means the tokenize function is mapped to the whole dataset as one big batch."
   ]
  },
  {
   "cell_type": "code",
   "execution_count": 17,
   "id": "d88cbc42-19b2-4fbe-be57-3247ba686c8d",
   "metadata": {},
   "outputs": [
    {
     "data": {
      "application/vnd.jupyter.widget-view+json": {
       "model_id": "19c1fb566dea46dcbabbe53da90b4a11",
       "version_major": 2,
       "version_minor": 0
      },
      "text/plain": [
       "Map:   0%|          | 0/16000 [00:00<?, ? examples/s]"
      ]
     },
     "metadata": {},
     "output_type": "display_data"
    },
    {
     "data": {
      "application/vnd.jupyter.widget-view+json": {
       "model_id": "733f0ca60048440ba05fecca2012e25f",
       "version_major": 2,
       "version_minor": 0
      },
      "text/plain": [
       "Map:   0%|          | 0/2000 [00:00<?, ? examples/s]"
      ]
     },
     "metadata": {},
     "output_type": "display_data"
    },
    {
     "data": {
      "application/vnd.jupyter.widget-view+json": {
       "model_id": "c5d1b617a5bc469a8d8f8edf37299d75",
       "version_major": 2,
       "version_minor": 0
      },
      "text/plain": [
       "Map:   0%|          | 0/2000 [00:00<?, ? examples/s]"
      ]
     },
     "metadata": {},
     "output_type": "display_data"
    }
   ],
   "source": [
    "emotions_encoded = emotions.map(tokenize, batched=True, batch_size=None)"
   ]
  },
  {
   "cell_type": "code",
   "execution_count": 18,
   "id": "a1315287-cec7-4c71-b229-a68ad9d69794",
   "metadata": {},
   "outputs": [
    {
     "name": "stdout",
     "output_type": "stream",
     "text": [
      "['text', 'label', 'input_ids', 'attention_mask']\n"
     ]
    }
   ],
   "source": [
    "print(emotions_encoded[\"train\"].column_names)"
   ]
  },
  {
   "cell_type": "markdown",
   "id": "c67019e2-a7ea-400a-a791-17a249a81a2b",
   "metadata": {},
   "source": [
    "## Embeddings with Transformers\n",
    "\n",
    "Once text is tokenized, it is converted into embeddings before being fed into the Transformer model. Transformers then create **contextual embeddings** that capture the meaning of words in context.\n",
    "\n",
    "### Example: Extracting Embeddings from a Pre-trained Model\n",
    "Let's use a pre-trained BERT model to extract embeddings for some example text."
   ]
  },
  {
   "cell_type": "code",
   "execution_count": 19,
   "id": "502a65b6-3e9d-4941-bc13-0a5c6b553d87",
   "metadata": {},
   "outputs": [],
   "source": [
    "from transformers import AutoModel\n",
    "import torch"
   ]
  },
  {
   "cell_type": "code",
   "execution_count": 20,
   "id": "094165fd-41d1-481a-ad9c-868e94ae438e",
   "metadata": {},
   "outputs": [],
   "source": [
    "# Load a pre-trained BERT model\n",
    "tokenizer = AutoTokenizer.from_pretrained(\"bert-base-uncased\")\n",
    "model = AutoModel.from_pretrained(\"bert-base-uncased\")\n",
    "\n",
    "# Tokenize the text and convert to input IDs\n",
    "inputs = tokenizer(text, return_tensors=\"pt\")"
   ]
  },
  {
   "cell_type": "code",
   "execution_count": 21,
   "id": "72ae7764-aee2-4b9c-bafd-7f1a28304a38",
   "metadata": {},
   "outputs": [
    {
     "data": {
      "text/plain": [
       "{'input_ids': tensor([[  101, 19081,  2024,  4329,  6026, 17953,  2361,   999,   102]]), 'token_type_ids': tensor([[0, 0, 0, 0, 0, 0, 0, 0, 0]]), 'attention_mask': tensor([[1, 1, 1, 1, 1, 1, 1, 1, 1]])}"
      ]
     },
     "execution_count": 21,
     "metadata": {},
     "output_type": "execute_result"
    }
   ],
   "source": [
    "inputs"
   ]
  },
  {
   "cell_type": "code",
   "execution_count": 22,
   "id": "d2841471-4819-42fa-bc27-1f2b0ec243f5",
   "metadata": {},
   "outputs": [],
   "source": [
    "# Get the embeddings (output of the model's hidden states)\n",
    "with torch.no_grad():\n",
    "    outputs = model(**inputs)\n",
    "\n",
    "# Extract the last hidden state\n",
    "last_hidden_state = outputs.last_hidden_state"
   ]
  },
  {
   "cell_type": "markdown",
   "id": "23789c3c-1264-4dff-9bb3-04813f3f4b36",
   "metadata": {},
   "source": [
    "**Explanation**  \n",
    "The `with torch.no_grad():` statement creates a context in which operations on tensors will not track gradients.\n",
    "This is used during inference (when you are using the model to make predictions rather than training it) to save memory and speed up computation by not storing information needed to compute gradients.\n",
    "\n",
    "`**inputs:` unpacks the inputs dictionary, passing its contents as keyword arguments to the model. `inputs` usually contains keys like:\n",
    "- 'input_ids': The tokenized input text.\n",
    "- 'attention_mask': A mask to differentiate real tokens from padding tokens.\n",
    "- 'token_type_ids' (optional): Indicates the segments in tasks like question answering.\n",
    "\n",
    "These inputs are then fed into the model for a forward pass.\n",
    "\n",
    "`outputs:` is a variable that will store the output of the model's forward pass. The specific structure of outputs depends on the type of model used. For most transformer models, the output will be a named tuple or an OrderedDict containing several attributes.\n",
    "\n",
    "`outputs.last_hidden_state:` extracts the \"last hidden state\" from the model's output. The last hidden state is a tensor representing the final layer's hidden states (embeddings) for each token in the input sequence.  \n",
    "The `shape` of last_hidden_state is usually `(batch_size, sequence_length, hidden_size)`, where:\n",
    "- batch_size: The number of input sequences in the batch.\n",
    "- sequence_length: The number of tokens in each input sequence.\n",
    "- hidden_size: The size of the hidden states (e.g., 768 for BERT base).  \n",
    "Purpose: The last hidden state is a contextual representation of each token in the input sequence, capturing the meaning of the token in the context of the entire sequence.\n",
    "\n",
    "Let's print that out:"
   ]
  },
  {
   "cell_type": "code",
   "execution_count": 23,
   "id": "3d8fb0f6-2525-46a8-b1b0-9c5297e7bbd6",
   "metadata": {},
   "outputs": [
    {
     "name": "stdout",
     "output_type": "stream",
     "text": [
      "Last Hidden State Shape: torch.Size([1, 9, 768])\n",
      "Embeddings for each token:\n",
      " tensor([[[ 0.2756,  0.0174,  0.3740,  ..., -0.1829,  0.4132,  0.2233],\n",
      "         [ 1.5966,  0.0826,  0.3611,  ..., -0.4800,  0.4948,  0.1968],\n",
      "         [ 0.5580, -0.0181,  0.1610,  ..., -0.1355,  0.6262, -0.2631],\n",
      "         ...,\n",
      "         [-0.0786, -0.6004,  1.1742,  ..., -0.1182,  0.2394, -0.1568],\n",
      "         [-0.1662, -0.4884,  0.1007,  ...,  0.9541,  0.3570, -0.4344],\n",
      "         [ 0.7650, -0.0820, -0.2475,  ...,  0.0726, -0.6258, -0.2202]]])\n"
     ]
    }
   ],
   "source": [
    "print(\"Last Hidden State Shape:\", last_hidden_state.shape)\n",
    "print(\"Embeddings for each token:\\n\", last_hidden_state)"
   ]
  },
  {
   "cell_type": "code",
   "execution_count": 24,
   "id": "816e8024-1b83-4de3-af60-164e572f5368",
   "metadata": {},
   "outputs": [],
   "source": [
    "from sklearn.decomposition import PCA\n",
    "import matplotlib.pyplot as plt"
   ]
  },
  {
   "cell_type": "code",
   "execution_count": 25,
   "id": "9ef926d3-1c0b-47e9-addf-0964e1e37dad",
   "metadata": {},
   "outputs": [],
   "source": [
    "# New text\n",
    "text = \"The fat ginger cat sat on a mat\"\n",
    "inputs = tokenizer(text, return_tensors=\"pt\")\n",
    "with torch.no_grad():\n",
    "    outputs = model(**inputs)\n",
    "\n",
    "last_hidden_state = outputs.last_hidden_state"
   ]
  },
  {
   "cell_type": "code",
   "execution_count": 26,
   "id": "25b343e4-ea8b-4892-9068-60880f548029",
   "metadata": {},
   "outputs": [],
   "source": [
    "# Convert the embeddings to numpy array\n",
    "embeddings = last_hidden_state[0].numpy()\n",
    "\n",
    "# Get the special tokens' IDs\n",
    "special_tokens_ids = tokenizer.all_special_ids\n",
    "tokens = tokenizer.convert_ids_to_tokens(inputs['input_ids'][0])\n",
    "\n",
    "# Filter out special tokens and their embeddings\n",
    "filtered_embeddings = []\n",
    "filtered_tokens = []"
   ]
  },
  {
   "cell_type": "code",
   "execution_count": 27,
   "id": "d64dac10-71d6-4f7a-ba4e-a99082592ea1",
   "metadata": {},
   "outputs": [],
   "source": [
    "for i, token_id in enumerate(inputs['input_ids'][0]):\n",
    "    if token_id not in special_tokens_ids:\n",
    "        filtered_embeddings.append(embeddings[i])\n",
    "        filtered_tokens.append(tokens[i])\n",
    "\n",
    "# Apply PCA to reduce dimensions to 2D\n",
    "pca = PCA(n_components=2)\n",
    "reduced_embeddings = pca.fit_transform(filtered_embeddings)"
   ]
  },
  {
   "cell_type": "markdown",
   "id": "80039479-869d-409f-8682-b7072583cd86",
   "metadata": {},
   "source": [
    "**Explanation**  \n",
    "The `.numpy()` method converts the PyTorch tensor to a NumPy array.\n",
    "This step is necessary because PCA in scikit-learn operates on NumPy arrays, not PyTorch tensors.\n",
    "Note: For this conversion to work, the tensor must be on the CPU. If the tensor is on a GPU, you should move it to the CPU first using .cpu().  \n",
    "E.g.: `embeddings = last_hidden_state[0].cpu().numpy()`"
   ]
  },
  {
   "cell_type": "code",
   "execution_count": 28,
   "id": "39405aca-5dab-40b2-9156-b2631a18c6a2",
   "metadata": {},
   "outputs": [
    {
     "data": {
      "image/png": "[encoded data removed]",
      "text/plain": [
       "<Figure size 800x600 with 1 Axes>"
      ]
     },
     "metadata": {},
     "output_type": "display_data"
    }
   ],
   "source": [
    "# Plot the embeddings\n",
    "plt.figure(figsize=(8, 6))\n",
    "plt.scatter(reduced_embeddings[:, 0], reduced_embeddings[:, 1], c='blue')\n",
    "\n",
    "# Annotate the points with tokens\n",
    "for i, token in enumerate(filtered_tokens):\n",
    "    plt.text(reduced_embeddings[i, 0], reduced_embeddings[i, 1], token, fontsize=9)\n",
    "\n",
    "plt.title(\"2D PCA of Token Embeddings\")\n",
    "plt.xlabel(\"x\")\n",
    "plt.ylabel(\"y\")\n",
    "plt.show()"
   ]
  },
  {
   "cell_type": "markdown",
   "id": "7e3f73a2-cdb8-4f2c-aa64-4e35806c9d4a",
   "metadata": {},
   "source": [
    "## Hands-On Exercise: Working with Tokenization and Embeddings\n",
    "\n",
    "In this exercise, you will:\n",
    "1. Choose a different pre-trained model from the Huggingface Hub.\n",
    "2. Tokenize a new text input.\n",
    "3. Extract and visualize embeddings for the tokens.\n",
    "\n",
    "### Instructions:\n",
    "\n",
    "1. Choose a model (e.g., \"distilbert-base-uncased\").\n",
    "2. Tokenize the following text: \"Huggingface makes NLP easy and accessible.\"\n",
    "3. Extract embeddings using the last hidden state of the model.\n",
    "\n",
    "Try it out below!"
   ]
  },
  {
   "cell_type": "code",
   "execution_count": 29,
   "id": "78ff5979-4d7c-4222-9fd2-f4ccf8a29d1b",
   "metadata": {},
   "outputs": [],
   "source": [
    "# Your code here:\n"
   ]
  },
  {
   "cell_type": "markdown",
   "id": "49f89739-7b86-4d62-ada4-a56a18d7d436",
   "metadata": {},
   "source": [
    "### (Possible) Solution:"
   ]
  },
  {
   "cell_type": "code",
   "execution_count": 30,
   "id": "1cd0b1c4-8f0d-4ce0-9042-44bcc8feb499",
   "metadata": {},
   "outputs": [
    {
     "data": {
      "application/vnd.jupyter.widget-view+json": {
       "model_id": "a0ae5156d74a478b824f5f5e83564dca",
       "version_major": 2,
       "version_minor": 0
      },
      "text/plain": [
       "tokenizer_config.json:   0%|          | 0.00/48.0 [00:00<?, ?B/s]"
      ]
     },
     "metadata": {},
     "output_type": "display_data"
    },
    {
     "data": {
      "application/vnd.jupyter.widget-view+json": {
       "model_id": "d3329b3c4d4c4f8baaeff2193e2698c0",
       "version_major": 2,
       "version_minor": 0
      },
      "text/plain": [
       "config.json:   0%|          | 0.00/483 [00:00<?, ?B/s]"
      ]
     },
     "metadata": {},
     "output_type": "display_data"
    },
    {
     "data": {
      "application/vnd.jupyter.widget-view+json": {
       "model_id": "0b07b1260a7c41258ed92c75c3c0863e",
       "version_major": 2,
       "version_minor": 0
      },
      "text/plain": [
       "vocab.txt:   0%|          | 0.00/232k [00:00<?, ?B/s]"
      ]
     },
     "metadata": {},
     "output_type": "display_data"
    },
    {
     "data": {
      "application/vnd.jupyter.widget-view+json": {
       "model_id": "f75fd6d99a074d01b52183864be41541",
       "version_major": 2,
       "version_minor": 0
      },
      "text/plain": [
       "tokenizer.json:   0%|          | 0.00/466k [00:00<?, ?B/s]"
      ]
     },
     "metadata": {},
     "output_type": "display_data"
    },
    {
     "data": {
      "application/vnd.jupyter.widget-view+json": {
       "model_id": "0e9db703db6d4da2b814a27174925a6e",
       "version_major": 2,
       "version_minor": 0
      },
      "text/plain": [
       "model.safetensors:   0%|          | 0.00/268M [00:00<?, ?B/s]"
      ]
     },
     "metadata": {},
     "output_type": "display_data"
    }
   ],
   "source": [
    "# Step 1: Choose a model\n",
    "model_name = \"distilbert-base-uncased\"  # Change this to any model of your choice\n",
    "tokenizer = AutoTokenizer.from_pretrained(model_name)\n",
    "model = AutoModel.from_pretrained(model_name)"
   ]
  },
  {
   "cell_type": "code",
   "execution_count": 31,
   "id": "3cd8e5a1-c59a-4eef-bba0-07e32ade7520",
   "metadata": {},
   "outputs": [],
   "source": [
    "# Step 2: Tokenize the new text\n",
    "new_text = \"Huggingface makes NLP easy and accessible.\"\n",
    "inputs = tokenizer(new_text, return_tensors=\"pt\")"
   ]
  },
  {
   "cell_type": "code",
   "execution_count": 32,
   "id": "1fa25a6b-077f-415f-903b-955dfea850e9",
   "metadata": {},
   "outputs": [],
   "source": [
    "# Step 3: Extract embeddings\n",
    "with torch.no_grad():\n",
    "    outputs = model(**inputs)\n",
    "\n",
    "# Extract the last hidden state\n",
    "new_last_hidden_state = outputs.last_hidden_state"
   ]
  },
  {
   "cell_type": "markdown",
   "id": "9ef312c3-199d-4480-8146-c1d5113b97a4",
   "metadata": {},
   "source": [
    "## Conclusion\n",
    "\n",
    "In this notebook, we explored the concepts of tokenization and embeddings, which are crucial for preparing text input for Transformer models. We demonstrated how to tokenize text using different methods and extract contextual embeddings from pre-trained models."
   ]
  },
  {
   "cell_type": "code",
   "execution_count": 33,
   "id": "e7df86d3-451a-48b8-913d-4ae00ccaef58",
   "metadata": {},
   "outputs": [
    {
     "data": {
      "text/plain": [
       "{'status': 'ok', 'restart': False}"
      ]
     },
     "execution_count": 33,
     "metadata": {},
     "output_type": "execute_result"
    }
   ],
   "source": [
    "# Shut down the kernel to release memory\n",
    "import IPython\n",
    "\n",
    "app = IPython.Application.instance()\n",
    "app.kernel.do_shutdown(restart=False)"
   ]
  },
  {
   "cell_type": "code",
   "execution_count": null,
   "id": "980eab88-fed3-4543-957b-9360535c8bc5",
   "metadata": {},
   "outputs": [],
   "source": []
  },
  {
   "cell_type": "code",
   "execution_count": null,
   "id": "7c516da7-61b8-42ba-a916-af162db41b42",
   "metadata": {},
   "outputs": [],
   "source": []
  }
 ],
 "metadata": {
  "kernelspec": {
   "display_name": "Python 3 (ipykernel)",
   "language": "python",
   "name": "python3"
  },
  "language_info": {
   "codemirror_mode": {
    "name": "ipython",
    "version": 3
   },
   "file_extension": ".py",
   "mimetype": "text/x-python",
   "name": "python",
   "nbconvert_exporter": "python",
   "pygments_lexer": "ipython3",
   "version": "3.10.14"
  }
 },
 "nbformat": 4,
 "nbformat_minor": 5
}
